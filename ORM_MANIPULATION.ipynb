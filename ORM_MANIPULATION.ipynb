{
 "cells": [
  {
   "cell_type": "code",
   "execution_count": 1,
   "metadata": {},
   "outputs": [],
   "source": [
    "import sys, os, django\n",
    "sys.path.append('/home/david/PycharmProjects/transportsystem')\n",
    "os.environ.setdefault('DJANGO_SETTINGS_MODULE','transportsystem.settings')\n",
    "django.setup()\n",
    "from transport.models import Department,CustomUser\n",
    "from transport.forms import CreateDepartment\n",
    "from transport.forms import CustomUserCreationForm"
   ]
  },
  {
   "cell_type": "code",
   "execution_count": 2,
   "metadata": {},
   "outputs": [
    {
     "data": {
      "text/plain": [
       "{'instance': <CustomUser:  >,\n",
       " '_validate_unique': False,\n",
       " 'is_bound': False,\n",
       " 'data': {},\n",
       " 'files': {},\n",
       " 'auto_id': 'id_%s',\n",
       " 'initial': {},\n",
       " 'error_class': django.forms.utils.ErrorList,\n",
       " 'label_suffix': ':',\n",
       " 'empty_permitted': False,\n",
       " '_errors': None,\n",
       " 'fields': OrderedDict([('username',\n",
       "               <django.contrib.auth.forms.UsernameField at 0x7f5160436630>),\n",
       "              ('email', <django.forms.fields.EmailField at 0x7f51590e6eb8>),\n",
       "              ('phone', <django.forms.fields.CharField at 0x7f51590a2470>),\n",
       "              ('address', <django.forms.fields.CharField at 0x7f51590b32b0>),\n",
       "              ('password1', <django.forms.fields.CharField at 0x7f515903d978>),\n",
       "              ('password2',\n",
       "               <django.forms.fields.CharField at 0x7f515903d9e8>)]),\n",
       " '_bound_fields_cache': {},\n",
       " 'renderer': <django.forms.renderers.DjangoTemplates at 0x7f515903da58>}"
      ]
     },
     "execution_count": 2,
     "metadata": {},
     "output_type": "execute_result"
    }
   ],
   "source": [
    "new = CustomUserCreationForm()\n",
    "new.__dict__"
   ]
  },
  {
   "cell_type": "code",
   "execution_count": 3,
   "metadata": {},
   "outputs": [],
   "source": [
    "userobject=CustomUser.objects.get(pk=4)\n",
    "userobject.address = 'Uthiru Damsyl'\n",
    "userobject.first_name ='David'\n",
    "userobject.last_name='Simiyu'\n",
    "userobject.save()"
   ]
  },
  {
   "cell_type": "code",
   "execution_count": 4,
   "metadata": {},
   "outputs": [
    {
     "data": {
      "text/plain": [
       "<CustomUser: dvdjuma849 djuma49@yahoo.com>"
      ]
     },
     "execution_count": 4,
     "metadata": {},
     "output_type": "execute_result"
    }
   ],
   "source": [
    "userobject"
   ]
  },
  {
   "cell_type": "code",
   "execution_count": null,
   "metadata": {},
   "outputs": [],
   "source": []
  },
  {
   "cell_type": "code",
   "execution_count": null,
   "metadata": {},
   "outputs": [],
   "source": []
  }
 ],
 "metadata": {
  "kernelspec": {
   "display_name": "Python 3",
   "language": "python",
   "name": "python3"
  },
  "language_info": {
   "codemirror_mode": {
    "name": "ipython",
    "version": 3
   },
   "file_extension": ".py",
   "mimetype": "text/x-python",
   "name": "python",
   "nbconvert_exporter": "python",
   "pygments_lexer": "ipython3",
   "version": "3.7.0"
  }
 },
 "nbformat": 4,
 "nbformat_minor": 2
}
